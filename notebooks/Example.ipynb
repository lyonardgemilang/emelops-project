{
 "cells": [
  {
   "cell_type": "code",
   "execution_count": 1,
   "id": "134afe99-e486-443a-b101-0512887b42a3",
   "metadata": {},
   "outputs": [
    {
     "ename": "ModuleNotFoundError",
     "evalue": "No module named 'boto3'",
     "output_type": "error",
     "traceback": [
      "\u001b[0;31m---------------------------------------------------------------------------\u001b[0m",
      "\u001b[0;31mModuleNotFoundError\u001b[0m                       Traceback (most recent call last)",
      "Cell \u001b[0;32mIn[1], line 7\u001b[0m\n\u001b[1;32m      5\u001b[0m \u001b[38;5;28;01mfrom\u001b[39;00m \u001b[38;5;21;01msklearn\u001b[39;00m\u001b[38;5;21;01m.\u001b[39;00m\u001b[38;5;21;01mmodel_selection\u001b[39;00m \u001b[38;5;28;01mimport\u001b[39;00m train_test_split\n\u001b[1;32m      6\u001b[0m \u001b[38;5;28;01mfrom\u001b[39;00m \u001b[38;5;21;01msklearn\u001b[39;00m\u001b[38;5;21;01m.\u001b[39;00m\u001b[38;5;21;01mmetrics\u001b[39;00m \u001b[38;5;28;01mimport\u001b[39;00m accuracy_score\n\u001b[0;32m----> 7\u001b[0m \u001b[38;5;28;01mimport\u001b[39;00m \u001b[38;5;21;01mboto3\u001b[39;00m\n\u001b[1;32m      8\u001b[0m \u001b[38;5;28;01mimport\u001b[39;00m \u001b[38;5;21;01mpandas\u001b[39;00m \u001b[38;5;28;01mas\u001b[39;00m \u001b[38;5;21;01mpd\u001b[39;00m\n\u001b[1;32m      9\u001b[0m \u001b[38;5;28;01mfrom\u001b[39;00m \u001b[38;5;21;01mminio\u001b[39;00m \u001b[38;5;28;01mimport\u001b[39;00m Minio\n",
      "\u001b[0;31mModuleNotFoundError\u001b[0m: No module named 'boto3'"
     ]
    }
   ],
   "source": [
    "import mlflow\n",
    "import mlflow.sklearn\n",
    "from sklearn.ensemble import RandomForestClassifier\n",
    "from sklearn.datasets import load_iris\n",
    "from sklearn.model_selection import train_test_split\n",
    "from sklearn.metrics import accuracy_score\n",
    "import boto3\n",
    "import pandas as pd\n",
    "from minio import Minio\n",
    "from dotenv import load_dotenv\n",
    "import os"
   ]
  },
  {
   "cell_type": "code",
   "execution_count": 2,
   "id": "b560db7b",
   "metadata": {},
   "outputs": [],
   "source": [
    "load_dotenv()\n",
    "\n",
    "access_key = os.getenv(\"AWS_ACCESS_KEY_ID\")\n",
    "secret_key = os.getenv(\"AWS_SECRET_ACCESS_KEY\")\n",
    "s3_url = os.getenv(\"S3_URL\")\n",
    "tracker_url = os.getenv(\"MLFLOW_URL\")\n"
   ]
  },
  {
   "cell_type": "code",
   "execution_count": 4,
   "id": "19a5f85c",
   "metadata": {},
   "outputs": [
    {
     "data": {
      "text/plain": [
       "'tracker'"
      ]
     },
     "execution_count": 4,
     "metadata": {},
     "output_type": "execute_result"
    }
   ],
   "source": [
    "tracker_url"
   ]
  },
  {
   "cell_type": "code",
   "execution_count": null,
   "id": "724b205e",
   "metadata": {},
   "outputs": [],
   "source": [
    "bucket_name = \"dataset\"\n",
    "object_name = \"Iris.csv\" "
   ]
  },
  {
   "cell_type": "code",
   "execution_count": null,
   "id": "d404d31b",
   "metadata": {},
   "outputs": [],
   "source": [
    "s3 = boto3.client(\n",
    "    's3',\n",
    "    endpoint_url=s3_url,\n",
    "    aws_access_key_id=access_key,\n",
    "    aws_secret_access_key=secret_key\n",
    ")\n"
   ]
  },
  {
   "cell_type": "code",
   "execution_count": 11,
   "id": "1113f5a2",
   "metadata": {},
   "outputs": [
    {
     "name": "stdout",
     "output_type": "stream",
     "text": [
      "Dataset loaded successfully:\n",
      "   Id  SepalLengthCm  SepalWidthCm  PetalLengthCm  PetalWidthCm      Species\n",
      "0   1            5.1           3.5            1.4           0.2  Iris-setosa\n",
      "1   2            4.9           3.0            1.4           0.2  Iris-setosa\n",
      "2   3            4.7           3.2            1.3           0.2  Iris-setosa\n",
      "3   4            4.6           3.1            1.5           0.2  Iris-setosa\n",
      "4   5            5.0           3.6            1.4           0.2  Iris-setosa\n"
     ]
    }
   ],
   "source": [
    "try:\n",
    "    response = s3.get_object(Bucket=bucket_name, Key=object_name)\n",
    "    dataset_content = response.get('Body')\n",
    "    # print(dataset_content)\n",
    "    # Load the dataset into a DataFrame\n",
    "    df = pd.read_csv(dataset_content)\n",
    "    print(\"Dataset loaded successfully:\")\n",
    "    print(df.head())\n",
    "except Exception as e:\n",
    "    print(\"Error fetching dataset from MinIO:\", e)"
   ]
  },
  {
   "cell_type": "code",
   "execution_count": 19,
   "id": "a14ffc0c-4350-4487-b7a2-4f13295e1d9d",
   "metadata": {},
   "outputs": [],
   "source": [
    "mlflow.set_tracking_uri(\"http://mlflow:5000\")\n",
    "experiment_name = \"Iris_Classification_Experiment\"\n",
    "mlflow.set_experiment(experiment_name)\n",
    "\n",
    "data = df.drop('Species', axis=1)\n",
    "target = df['Species']\n",
    "X_train, X_test, y_train, y_test = train_test_split(data, target, test_size=0.2, random_state=42)"
   ]
  },
  {
   "cell_type": "code",
   "execution_count": 20,
   "id": "cf32ed02-8ea6-4915-b3f3-350e48707902",
   "metadata": {},
   "outputs": [
    {
     "name": "stderr",
     "output_type": "stream",
     "text": [
      "2024/11/03 15:11:11 WARNING mlflow.models.model: Model logged without a signature and input example. Please set `input_example` parameter when logging the model to auto infer the model signature.\n",
      "2024/11/03 15:11:11 INFO mlflow.tracking._tracking_service.client: 🏃 View run handsome-kite-956 at: http://mlflow:5000/#/experiments/1/runs/fb5c9c8b48b14601aba27d8d9b7c5a96.\n",
      "2024/11/03 15:11:11 INFO mlflow.tracking._tracking_service.client: 🧪 View experiment at: http://mlflow:5000/#/experiments/1.\n"
     ]
    },
    {
     "name": "stdout",
     "output_type": "stream",
     "text": [
      "Run ID: fb5c9c8b48b14601aba27d8d9b7c5a96\n",
      "Model accuracy: 1.0\n"
     ]
    }
   ],
   "source": [
    "# Start an MLflow run\n",
    "with mlflow.start_run():\n",
    "    # Define model parameters\n",
    "    n_estimators = 100\n",
    "    max_depth = 5\n",
    "    random_state = 42\n",
    "\n",
    "    # Log parameters to MLflow\n",
    "    mlflow.log_param(\"n_estimators\", n_estimators)\n",
    "    mlflow.log_param(\"max_depth\", max_depth)\n",
    "    mlflow.log_param(\"random_state\", random_state)\n",
    "\n",
    "    # Train the model\n",
    "    model = RandomForestClassifier(n_estimators=n_estimators, max_depth=max_depth, random_state=random_state)\n",
    "    model.fit(X_train, y_train)\n",
    "\n",
    "    # Make predictions and calculate accuracy\n",
    "    predictions = model.predict(X_test)\n",
    "    accuracy = accuracy_score(y_test, predictions)\n",
    "\n",
    "    # Log metrics to MLflow\n",
    "    mlflow.log_metric(\"accuracy\", accuracy)\n",
    "\n",
    "    # Log the model artifact to MinIO via MLflow\n",
    "    mlflow.sklearn.log_model(model, \"model\")\n",
    "\n",
    "    # Print Run ID for reference\n",
    "    run_id = mlflow.active_run().info.run_id\n",
    "    print(f\"Run ID: {run_id}\")\n",
    "    print(f\"Model accuracy: {accuracy}\")\n",
    "\n",
    "# To check results:\n",
    "# - Open MLflow tracking server UI at http://localhost:5001\n",
    "# - Go to the MinIO console at http://localhost:9001 to view the artifacts\n"
   ]
  }
 ],
 "metadata": {
  "kernelspec": {
   "display_name": "MLOps",
   "language": "python",
   "name": "python3"
  },
  "language_info": {
   "codemirror_mode": {
    "name": "ipython",
    "version": 3
   },
   "file_extension": ".py",
   "mimetype": "text/x-python",
   "name": "python",
   "nbconvert_exporter": "python",
   "pygments_lexer": "ipython3",
   "version": "3.10.13"
  }
 },
 "nbformat": 4,
 "nbformat_minor": 5
}
