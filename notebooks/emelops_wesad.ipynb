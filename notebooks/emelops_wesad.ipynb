{
 "cells": [
  {
   "cell_type": "code",
   "execution_count": 29,
   "metadata": {},
   "outputs": [],
   "source": [
    "import pandas as pd\n",
    "from sklearn.datasets import load_iris\n",
    "from sklearn.model_selection import train_test_split\n",
    "from sklearn.ensemble import RandomForestClassifier\n",
    "from sklearn.metrics import accuracy_score\n",
    "import mlflow\n",
    "import mlflow.sklearn\n",
    "import numpy as np\n",
    "\n",
    "# 1. Load dataset\n",
    "df = pd.read_pickle(\"../S17/S17.pkl\")"
   ]
  },
  {
   "cell_type": "code",
   "execution_count": 30,
   "metadata": {},
   "outputs": [
    {
     "name": "stdout",
     "output_type": "stream",
     "text": [
      "<class 'dict'>\n",
      "dict_keys(['signal', 'label', 'subject'])\n"
     ]
    }
   ],
   "source": [
    "print(type(df))   # Should print <class 'dict'>\n",
    "print(df.keys())  # Shows the keys in the dictionary\n"
   ]
  },
  {
   "cell_type": "code",
   "execution_count": 31,
   "metadata": {},
   "outputs": [],
   "source": [
    "signal_dict = df[\"signal\"]\n",
    "label_array  = df[\"label\"]\n",
    "subject_array = df[\"subject\"]"
   ]
  },
  {
   "cell_type": "code",
   "execution_count": 33,
   "metadata": {},
   "outputs": [
    {
     "data": {
      "text/plain": [
       "{'chest': {'ACC': array([[ 0.70019996, -0.19819999, -1.07019997],\n",
       "         [ 0.72940004, -0.19019997, -1.04700005],\n",
       "         [ 0.76460004, -0.18400002, -1.00460005],\n",
       "         ...,\n",
       "         [ 0.90279996, -0.0424    , -0.1864    ],\n",
       "         [ 0.90020001, -0.04079998, -0.18540001],\n",
       "         [ 0.89960003, -0.04140002, -0.18620002]]),\n",
       "  'ECG': array([[1.43179321],\n",
       "         [1.46195984],\n",
       "         [1.47161865],\n",
       "         ...,\n",
       "         [0.16712952],\n",
       "         [0.17033386],\n",
       "         [0.17523193]]),\n",
       "  'EMG': array([[ 0.00709534],\n",
       "         [-0.0124054 ],\n",
       "         [-0.01808167],\n",
       "         ...,\n",
       "         [-0.0160675 ],\n",
       "         [ 0.00517273],\n",
       "         [ 0.02275085]]),\n",
       "  'EDA': array([[5.40046692],\n",
       "         [5.40885925],\n",
       "         [5.40161133],\n",
       "         ...,\n",
       "         [7.26280212],\n",
       "         [7.26966858],\n",
       "         [7.2681427 ]]),\n",
       "  'Temp': array([[32.415283],\n",
       "         [32.43463 ],\n",
       "         [32.4451  ],\n",
       "         ...,\n",
       "         [33.86429 ],\n",
       "         [33.862762],\n",
       "         [33.868835]], dtype=float32),\n",
       "  'Resp': array([[3.22113037],\n",
       "         [3.60717773],\n",
       "         [3.60870361],\n",
       "         ...,\n",
       "         [0.31890869],\n",
       "         [0.30822754],\n",
       "         [0.2746582 ]])},\n",
       " 'wrist': {'ACC': array([[ -36.,  -38., -128.],\n",
       "         [  -9.,   -9.,    2.],\n",
       "         [ 113.,  -25.,   86.],\n",
       "         ...,\n",
       "         [ -38.,  -43.,  -93.],\n",
       "         [   2.,  -52., -105.],\n",
       "         [-128.,   86.,  127.]]),\n",
       "  'BVP': array([[-0.49],\n",
       "         [-0.38],\n",
       "         [-0.36],\n",
       "         ...,\n",
       "         [-4.43],\n",
       "         [-5.44],\n",
       "         [-6.21]]),\n",
       "  'EDA': array([[2.015176],\n",
       "         [2.012617],\n",
       "         [2.001103],\n",
       "         ...,\n",
       "         [0.78717 ],\n",
       "         [0.784611],\n",
       "         [0.783331]]),\n",
       "  'TEMP': array([[33.39],\n",
       "         [33.37],\n",
       "         [33.37],\n",
       "         ...,\n",
       "         [31.81],\n",
       "         [31.81],\n",
       "         [31.81]])}}"
      ]
     },
     "execution_count": 33,
     "metadata": {},
     "output_type": "execute_result"
    }
   ],
   "source": [
    "signal_dict"
   ]
  },
  {
   "cell_type": "code",
   "execution_count": 39,
   "metadata": {},
   "outputs": [
    {
     "data": {
      "text/plain": [
       "array([0, 0, 0, ..., 0, 0, 0], dtype=int32)"
      ]
     },
     "execution_count": 39,
     "metadata": {},
     "output_type": "execute_result"
    }
   ],
   "source": [
    "label_array"
   ]
  },
  {
   "cell_type": "code",
   "execution_count": 34,
   "metadata": {},
   "outputs": [
    {
     "data": {
      "text/plain": [
       "'S17'"
      ]
     },
     "execution_count": 34,
     "metadata": {},
     "output_type": "execute_result"
    }
   ],
   "source": [
    "subject_array"
   ]
  },
  {
   "cell_type": "code",
   "execution_count": 9,
   "metadata": {},
   "outputs": [
    {
     "name": "stdout",
     "output_type": "stream",
     "text": [
      "signal_array shape: None\n",
      "label_array shape: (4144000,)\n",
      "<class 'dict'>\n",
      "2\n",
      "dict_keys(['chest', 'wrist'])\n"
     ]
    }
   ],
   "source": [
    "print(\"signal_array shape:\", getattr(signal_dict, \"shape\", None))\n",
    "print(\"label_array shape:\", getattr(label_array, \"shape\", None))\n",
    "print(type(signal_dict))\n",
    "print(len(signal_dict))  # If it's a list or similar\n",
    "print(signal_dict.keys()) "
   ]
  },
  {
   "cell_type": "code",
   "execution_count": 10,
   "metadata": {},
   "outputs": [
    {
     "name": "stdout",
     "output_type": "stream",
     "text": [
      "[chest] -> type: <class 'dict'>\n",
      "   Subkeys: dict_keys(['ACC', 'ECG', 'EMG', 'EDA', 'Temp', 'Resp'])\n",
      "[wrist] -> type: <class 'dict'>\n",
      "   Subkeys: dict_keys(['ACC', 'BVP', 'EDA', 'TEMP'])\n"
     ]
    }
   ],
   "source": [
    "for key in signal_dict:\n",
    "    value = signal_dict[key]\n",
    "    print(f\"[{key}] -> type: {type(value)}\")\n",
    "    if isinstance(value, dict):\n",
    "        print(f\"   Subkeys: {value.keys()}\")\n"
   ]
  },
  {
   "cell_type": "code",
   "execution_count": 11,
   "metadata": {},
   "outputs": [],
   "source": [
    "# chest_dict = signal_dict[\"chest\"]\n",
    "# features_list_chest = []\n",
    "# for sensor_name_chest in chest_dict:\n",
    "#     sensor_data_chest = chest_dict[sensor_name_chest]\n",
    "#     # If it's 1D: shape=(N,), reshape to (N,1).\n",
    "#     # If it's 2D: shape=(N, c), leave it as is.\n",
    "#     if sensor_data_chest.ndim == 1:\n",
    "#         sensor_data_chest = sensor_data_chest.reshape(-1, 1)\n",
    "#     # Append to the list\n",
    "#     features_list_chest.append(sensor_data_chest)\n",
    "\n",
    "# # Concatenate all channels horizontally\n",
    "# X_chest = np.hstack(features_list_chest)  #"
   ]
  },
  {
   "cell_type": "code",
   "execution_count": 12,
   "metadata": {},
   "outputs": [],
   "source": [
    "chest_dict = signal_dict[\"chest\"]\n",
    "features_list_chest = []\n",
    "chest_col_names = []\n",
    "\n",
    "for sensor_name_chest in chest_dict:\n",
    "    sensor_data_chest = chest_dict[sensor_name_chest]\n",
    "    if sensor_data_chest.ndim == 1:\n",
    "        sensor_data_chest = sensor_data_chest.reshape(-1, 1)\n",
    "    \n",
    "    num_chest_cols = sensor_data_chest.shape[1]\n",
    "    for i in range(num_chest_cols):\n",
    "        col_name = f\"chest_{sensor_name_chest}_{i}\"\n",
    "        chest_col_names.append(col_name)\n",
    "        \n",
    "    features_list_chest.append(sensor_data_chest)"
   ]
  },
  {
   "cell_type": "code",
   "execution_count": 13,
   "metadata": {},
   "outputs": [],
   "source": [
    "# wrist_dict = signal_dict[\"wrist\"]\n",
    "# features_list_wrist = []\n",
    "# for sensor_name_wrist in wrist_dict:\n",
    "#     sensor_data_wrist = wrist_dict[sensor_name_wrist]\n",
    "#     # If 1D, reshape to (N,1) for stacking\n",
    "#     if sensor_data_wrist.ndim == 1:\n",
    "#         sensor_data_wrist = sensor_data_wrist.reshape(-1, 1)\n",
    "#     features_list_wrist.append(sensor_data_wrist)\n",
    "\n",
    "# # Find the minimum length across all wrist sensors\n",
    "# min_len = min(arr.shape[0] for arr in features_list_wrist)\n",
    "\n",
    "# # Clip each sensor's data to 'min_len'\n",
    "# for i in range(len(features_list_wrist)):\n",
    "#     features_list_wrist[i] = features_list_wrist[i][:min_len]\n",
    "\n",
    "# # Now all arrays have shape (min_len, c_i)\n",
    "# X_wrist = np.hstack(features_list_wrist)\n",
    "# print(X_wrist.shape)  # (min_len, sum_of_channels)"
   ]
  },
  {
   "cell_type": "code",
   "execution_count": 14,
   "metadata": {},
   "outputs": [],
   "source": [
    "wrist_dict = signal_dict[\"wrist\"]\n",
    "features_list_wrist = []\n",
    "wrist_col_names = []\n",
    "\n",
    "for sensor_name_wrist in wrist_dict:\n",
    "    sensor_data_wrist = wrist_dict[sensor_name_wrist]\n",
    "    if sensor_data_wrist.ndim == 1:\n",
    "        sensor_data_wrist = sensor_data_wrist.reshape(-1, 1)\n",
    "    \n",
    "    num_wrist_cols = sensor_data_wrist.shape[1]\n",
    "    for i in range(num_wrist_cols):\n",
    "        col_name = f\"wrist_{sensor_name_wrist}_{i}\"\n",
    "        wrist_col_names.append(col_name)\n",
    "        \n",
    "    features_list_wrist.append(sensor_data_wrist)"
   ]
  },
  {
   "cell_type": "code",
   "execution_count": 15,
   "metadata": {},
   "outputs": [],
   "source": [
    "all_arrays = features_list_chest + features_list_wrist\n",
    "min_len = min(arr.shape[0] for arr in all_arrays)"
   ]
  },
  {
   "cell_type": "code",
   "execution_count": 16,
   "metadata": {},
   "outputs": [],
   "source": [
    "for i in range(len(features_list_chest)):\n",
    "    features_list_chest[i] = features_list_chest[i][:min_len]\n",
    "\n",
    "for i in range(len(features_list_wrist)):\n",
    "    features_list_wrist[i] = features_list_wrist[i][:min_len]"
   ]
  },
  {
   "cell_type": "code",
   "execution_count": 23,
   "metadata": {},
   "outputs": [],
   "source": [
    "X_chest = np.hstack(features_list_chest)\n",
    "X_wrist = np.hstack(features_list_wrist)\n",
    "X = np.hstack([X_chest, X_wrist])\n",
    "\n",
    "label_array = label_array[:min_len]\n",
    "y = pd.Series(label_array, name=\"label\")\n",
    "\n",
    "column_names = chest_col_names + wrist_col_names"
   ]
  },
  {
   "cell_type": "code",
   "execution_count": 24,
   "metadata": {},
   "outputs": [
    {
     "data": {
      "text/plain": [
       "0        0\n",
       "1        0\n",
       "2        0\n",
       "3        0\n",
       "4        0\n",
       "        ..\n",
       "23675    0\n",
       "23676    0\n",
       "23677    0\n",
       "23678    0\n",
       "23679    0\n",
       "Name: label, Length: 23680, dtype: int32"
      ]
     },
     "execution_count": 24,
     "metadata": {},
     "output_type": "execute_result"
    }
   ],
   "source": [
    "y"
   ]
  },
  {
   "cell_type": "code",
   "execution_count": 25,
   "metadata": {},
   "outputs": [],
   "source": [
    "if X.shape[1] != len(column_names):\n",
    "    print(\"WARNING: Mismatch in X columns vs. named columns!\")\n",
    "    print(f\"X.shape[1] = {X.shape[1]}, len(column_names) = {len(column_names)}\")"
   ]
  },
  {
   "cell_type": "code",
   "execution_count": 26,
   "metadata": {},
   "outputs": [],
   "source": [
    "X_df = pd.DataFrame(X, columns=column_names)"
   ]
  },
  {
   "cell_type": "code",
   "execution_count": 27,
   "metadata": {},
   "outputs": [
    {
     "data": {
      "text/html": [
       "<div>\n",
       "<style scoped>\n",
       "    .dataframe tbody tr th:only-of-type {\n",
       "        vertical-align: middle;\n",
       "    }\n",
       "\n",
       "    .dataframe tbody tr th {\n",
       "        vertical-align: top;\n",
       "    }\n",
       "\n",
       "    .dataframe thead th {\n",
       "        text-align: right;\n",
       "    }\n",
       "</style>\n",
       "<table border=\"1\" class=\"dataframe\">\n",
       "  <thead>\n",
       "    <tr style=\"text-align: right;\">\n",
       "      <th></th>\n",
       "      <th>chest_ACC_0</th>\n",
       "      <th>chest_ACC_1</th>\n",
       "      <th>chest_ACC_2</th>\n",
       "      <th>chest_ECG_0</th>\n",
       "      <th>chest_EMG_0</th>\n",
       "      <th>chest_EDA_0</th>\n",
       "      <th>chest_Temp_0</th>\n",
       "      <th>chest_Resp_0</th>\n",
       "      <th>wrist_ACC_0</th>\n",
       "      <th>wrist_ACC_1</th>\n",
       "      <th>wrist_ACC_2</th>\n",
       "      <th>wrist_BVP_0</th>\n",
       "      <th>wrist_EDA_0</th>\n",
       "      <th>wrist_TEMP_0</th>\n",
       "    </tr>\n",
       "  </thead>\n",
       "  <tbody>\n",
       "    <tr>\n",
       "      <th>0</th>\n",
       "      <td>0.7002</td>\n",
       "      <td>-0.1982</td>\n",
       "      <td>-1.0702</td>\n",
       "      <td>1.431793</td>\n",
       "      <td>0.007095</td>\n",
       "      <td>5.400467</td>\n",
       "      <td>32.415283</td>\n",
       "      <td>3.221130</td>\n",
       "      <td>-36.0</td>\n",
       "      <td>-38.0</td>\n",
       "      <td>-128.0</td>\n",
       "      <td>-0.49</td>\n",
       "      <td>2.015176</td>\n",
       "      <td>33.39</td>\n",
       "    </tr>\n",
       "    <tr>\n",
       "      <th>1</th>\n",
       "      <td>0.7294</td>\n",
       "      <td>-0.1902</td>\n",
       "      <td>-1.0470</td>\n",
       "      <td>1.461960</td>\n",
       "      <td>-0.012405</td>\n",
       "      <td>5.408859</td>\n",
       "      <td>32.434631</td>\n",
       "      <td>3.607178</td>\n",
       "      <td>-9.0</td>\n",
       "      <td>-9.0</td>\n",
       "      <td>2.0</td>\n",
       "      <td>-0.38</td>\n",
       "      <td>2.012617</td>\n",
       "      <td>33.37</td>\n",
       "    </tr>\n",
       "    <tr>\n",
       "      <th>2</th>\n",
       "      <td>0.7646</td>\n",
       "      <td>-0.1840</td>\n",
       "      <td>-1.0046</td>\n",
       "      <td>1.471619</td>\n",
       "      <td>-0.018082</td>\n",
       "      <td>5.401611</td>\n",
       "      <td>32.445099</td>\n",
       "      <td>3.608704</td>\n",
       "      <td>113.0</td>\n",
       "      <td>-25.0</td>\n",
       "      <td>86.0</td>\n",
       "      <td>-0.36</td>\n",
       "      <td>2.001103</td>\n",
       "      <td>33.37</td>\n",
       "    </tr>\n",
       "    <tr>\n",
       "      <th>3</th>\n",
       "      <td>0.8014</td>\n",
       "      <td>-0.1778</td>\n",
       "      <td>-0.9782</td>\n",
       "      <td>1.472763</td>\n",
       "      <td>-0.027557</td>\n",
       "      <td>5.407715</td>\n",
       "      <td>32.439087</td>\n",
       "      <td>3.643799</td>\n",
       "      <td>-115.0</td>\n",
       "      <td>-18.0</td>\n",
       "      <td>-35.0</td>\n",
       "      <td>-0.75</td>\n",
       "      <td>2.030529</td>\n",
       "      <td>33.37</td>\n",
       "    </tr>\n",
       "    <tr>\n",
       "      <th>4</th>\n",
       "      <td>0.8348</td>\n",
       "      <td>-0.1608</td>\n",
       "      <td>-0.8950</td>\n",
       "      <td>1.469421</td>\n",
       "      <td>-0.026779</td>\n",
       "      <td>5.410385</td>\n",
       "      <td>32.439087</td>\n",
       "      <td>3.575134</td>\n",
       "      <td>-37.0</td>\n",
       "      <td>-24.0</td>\n",
       "      <td>56.0</td>\n",
       "      <td>-1.74</td>\n",
       "      <td>1.979353</td>\n",
       "      <td>33.37</td>\n",
       "    </tr>\n",
       "  </tbody>\n",
       "</table>\n",
       "</div>"
      ],
      "text/plain": [
       "   chest_ACC_0  chest_ACC_1  chest_ACC_2  chest_ECG_0  chest_EMG_0  \\\n",
       "0       0.7002      -0.1982      -1.0702     1.431793     0.007095   \n",
       "1       0.7294      -0.1902      -1.0470     1.461960    -0.012405   \n",
       "2       0.7646      -0.1840      -1.0046     1.471619    -0.018082   \n",
       "3       0.8014      -0.1778      -0.9782     1.472763    -0.027557   \n",
       "4       0.8348      -0.1608      -0.8950     1.469421    -0.026779   \n",
       "\n",
       "   chest_EDA_0  chest_Temp_0  chest_Resp_0  wrist_ACC_0  wrist_ACC_1  \\\n",
       "0     5.400467     32.415283      3.221130        -36.0        -38.0   \n",
       "1     5.408859     32.434631      3.607178         -9.0         -9.0   \n",
       "2     5.401611     32.445099      3.608704        113.0        -25.0   \n",
       "3     5.407715     32.439087      3.643799       -115.0        -18.0   \n",
       "4     5.410385     32.439087      3.575134        -37.0        -24.0   \n",
       "\n",
       "   wrist_ACC_2  wrist_BVP_0  wrist_EDA_0  wrist_TEMP_0  \n",
       "0       -128.0        -0.49     2.015176         33.39  \n",
       "1          2.0        -0.38     2.012617         33.37  \n",
       "2         86.0        -0.36     2.001103         33.37  \n",
       "3        -35.0        -0.75     2.030529         33.37  \n",
       "4         56.0        -1.74     1.979353         33.37  "
      ]
     },
     "execution_count": 27,
     "metadata": {},
     "output_type": "execute_result"
    }
   ],
   "source": [
    "X_df.head()"
   ]
  },
  {
   "cell_type": "code",
   "execution_count": 21,
   "metadata": {},
   "outputs": [
    {
     "data": {
      "text/html": [
       "<div>\n",
       "<style scoped>\n",
       "    .dataframe tbody tr th:only-of-type {\n",
       "        vertical-align: middle;\n",
       "    }\n",
       "\n",
       "    .dataframe tbody tr th {\n",
       "        vertical-align: top;\n",
       "    }\n",
       "\n",
       "    .dataframe thead th {\n",
       "        text-align: right;\n",
       "    }\n",
       "</style>\n",
       "<table border=\"1\" class=\"dataframe\">\n",
       "  <thead>\n",
       "    <tr style=\"text-align: right;\">\n",
       "      <th></th>\n",
       "      <th>0</th>\n",
       "      <th>1</th>\n",
       "      <th>2</th>\n",
       "      <th>3</th>\n",
       "      <th>4</th>\n",
       "      <th>5</th>\n",
       "      <th>6</th>\n",
       "      <th>7</th>\n",
       "      <th>8</th>\n",
       "      <th>9</th>\n",
       "      <th>10</th>\n",
       "      <th>11</th>\n",
       "      <th>12</th>\n",
       "      <th>13</th>\n",
       "    </tr>\n",
       "  </thead>\n",
       "  <tbody>\n",
       "    <tr>\n",
       "      <th>count</th>\n",
       "      <td>23680.000000</td>\n",
       "      <td>23680.000000</td>\n",
       "      <td>23680.000000</td>\n",
       "      <td>23680.000000</td>\n",
       "      <td>23680.000000</td>\n",
       "      <td>23680.000000</td>\n",
       "      <td>23680.000000</td>\n",
       "      <td>23680.000000</td>\n",
       "      <td>23680.000000</td>\n",
       "      <td>23680.000000</td>\n",
       "      <td>23680.000000</td>\n",
       "      <td>23680.000000</td>\n",
       "      <td>23680.000000</td>\n",
       "      <td>23680.000000</td>\n",
       "    </tr>\n",
       "    <tr>\n",
       "      <th>mean</th>\n",
       "      <td>0.905636</td>\n",
       "      <td>-0.056766</td>\n",
       "      <td>-0.136282</td>\n",
       "      <td>0.001077</td>\n",
       "      <td>-0.003396</td>\n",
       "      <td>5.426024</td>\n",
       "      <td>32.397633</td>\n",
       "      <td>-0.182503</td>\n",
       "      <td>-35.355954</td>\n",
       "      <td>-24.070650</td>\n",
       "      <td>-29.761402</td>\n",
       "      <td>0.001593</td>\n",
       "      <td>1.080372</td>\n",
       "      <td>32.706384</td>\n",
       "    </tr>\n",
       "    <tr>\n",
       "      <th>std</th>\n",
       "      <td>0.031873</td>\n",
       "      <td>0.059082</td>\n",
       "      <td>0.081497</td>\n",
       "      <td>0.300154</td>\n",
       "      <td>0.020144</td>\n",
       "      <td>0.016262</td>\n",
       "      <td>0.068494</td>\n",
       "      <td>3.512175</td>\n",
       "      <td>13.203010</td>\n",
       "      <td>22.112599</td>\n",
       "      <td>28.911897</td>\n",
       "      <td>56.337299</td>\n",
       "      <td>0.247978</td>\n",
       "      <td>0.448797</td>\n",
       "    </tr>\n",
       "    <tr>\n",
       "      <th>min</th>\n",
       "      <td>0.570400</td>\n",
       "      <td>-0.665600</td>\n",
       "      <td>-1.321400</td>\n",
       "      <td>-0.515762</td>\n",
       "      <td>-0.197708</td>\n",
       "      <td>5.374146</td>\n",
       "      <td>32.117615</td>\n",
       "      <td>-6.642151</td>\n",
       "      <td>-128.000000</td>\n",
       "      <td>-73.000000</td>\n",
       "      <td>-128.000000</td>\n",
       "      <td>-383.110000</td>\n",
       "      <td>0.642597</td>\n",
       "      <td>31.810000</td>\n",
       "    </tr>\n",
       "    <tr>\n",
       "      <th>25%</th>\n",
       "      <td>0.901000</td>\n",
       "      <td>-0.061800</td>\n",
       "      <td>-0.154850</td>\n",
       "      <td>-0.120804</td>\n",
       "      <td>-0.015152</td>\n",
       "      <td>5.416489</td>\n",
       "      <td>32.394379</td>\n",
       "      <td>-3.259277</td>\n",
       "      <td>-49.000000</td>\n",
       "      <td>-33.000000</td>\n",
       "      <td>-53.000000</td>\n",
       "      <td>-23.682500</td>\n",
       "      <td>0.934301</td>\n",
       "      <td>32.330000</td>\n",
       "    </tr>\n",
       "    <tr>\n",
       "      <th>50%</th>\n",
       "      <td>0.907800</td>\n",
       "      <td>-0.046600</td>\n",
       "      <td>-0.126200</td>\n",
       "      <td>-0.034470</td>\n",
       "      <td>-0.003227</td>\n",
       "      <td>5.427170</td>\n",
       "      <td>32.418213</td>\n",
       "      <td>-0.477600</td>\n",
       "      <td>-30.000000</td>\n",
       "      <td>-28.000000</td>\n",
       "      <td>-48.000000</td>\n",
       "      <td>3.190000</td>\n",
       "      <td>1.016183</td>\n",
       "      <td>32.650000</td>\n",
       "    </tr>\n",
       "    <tr>\n",
       "      <th>75%</th>\n",
       "      <td>0.911800</td>\n",
       "      <td>-0.040400</td>\n",
       "      <td>-0.110200</td>\n",
       "      <td>0.022659</td>\n",
       "      <td>0.008331</td>\n",
       "      <td>5.436325</td>\n",
       "      <td>32.439087</td>\n",
       "      <td>2.580643</td>\n",
       "      <td>-24.000000</td>\n",
       "      <td>-26.000000</td>\n",
       "      <td>-9.000000</td>\n",
       "      <td>21.850000</td>\n",
       "      <td>1.091767</td>\n",
       "      <td>33.050000</td>\n",
       "    </tr>\n",
       "    <tr>\n",
       "      <th>max</th>\n",
       "      <td>1.247200</td>\n",
       "      <td>0.530600</td>\n",
       "      <td>1.474400</td>\n",
       "      <td>1.499313</td>\n",
       "      <td>0.163925</td>\n",
       "      <td>5.516815</td>\n",
       "      <td>32.580933</td>\n",
       "      <td>8.041382</td>\n",
       "      <td>125.000000</td>\n",
       "      <td>127.000000</td>\n",
       "      <td>101.000000</td>\n",
       "      <td>469.910000</td>\n",
       "      <td>2.585791</td>\n",
       "      <td>33.530000</td>\n",
       "    </tr>\n",
       "  </tbody>\n",
       "</table>\n",
       "</div>"
      ],
      "text/plain": [
       "                 0             1             2             3             4   \\\n",
       "count  23680.000000  23680.000000  23680.000000  23680.000000  23680.000000   \n",
       "mean       0.905636     -0.056766     -0.136282      0.001077     -0.003396   \n",
       "std        0.031873      0.059082      0.081497      0.300154      0.020144   \n",
       "min        0.570400     -0.665600     -1.321400     -0.515762     -0.197708   \n",
       "25%        0.901000     -0.061800     -0.154850     -0.120804     -0.015152   \n",
       "50%        0.907800     -0.046600     -0.126200     -0.034470     -0.003227   \n",
       "75%        0.911800     -0.040400     -0.110200      0.022659      0.008331   \n",
       "max        1.247200      0.530600      1.474400      1.499313      0.163925   \n",
       "\n",
       "                 5             6             7             8             9   \\\n",
       "count  23680.000000  23680.000000  23680.000000  23680.000000  23680.000000   \n",
       "mean       5.426024     32.397633     -0.182503    -35.355954    -24.070650   \n",
       "std        0.016262      0.068494      3.512175     13.203010     22.112599   \n",
       "min        5.374146     32.117615     -6.642151   -128.000000    -73.000000   \n",
       "25%        5.416489     32.394379     -3.259277    -49.000000    -33.000000   \n",
       "50%        5.427170     32.418213     -0.477600    -30.000000    -28.000000   \n",
       "75%        5.436325     32.439087      2.580643    -24.000000    -26.000000   \n",
       "max        5.516815     32.580933      8.041382    125.000000    127.000000   \n",
       "\n",
       "                 10            11            12            13  \n",
       "count  23680.000000  23680.000000  23680.000000  23680.000000  \n",
       "mean     -29.761402      0.001593      1.080372     32.706384  \n",
       "std       28.911897     56.337299      0.247978      0.448797  \n",
       "min     -128.000000   -383.110000      0.642597     31.810000  \n",
       "25%      -53.000000    -23.682500      0.934301     32.330000  \n",
       "50%      -48.000000      3.190000      1.016183     32.650000  \n",
       "75%       -9.000000     21.850000      1.091767     33.050000  \n",
       "max      101.000000    469.910000      2.585791     33.530000  "
      ]
     },
     "execution_count": 21,
     "metadata": {},
     "output_type": "execute_result"
    }
   ],
   "source": [
    "X_df.describe()"
   ]
  },
  {
   "cell_type": "code",
   "execution_count": 22,
   "metadata": {},
   "outputs": [
    {
     "name": "stdout",
     "output_type": "stream",
     "text": [
      "<class 'pandas.core.frame.DataFrame'>\n",
      "RangeIndex: 23680 entries, 0 to 23679\n",
      "Data columns (total 14 columns):\n",
      " #   Column  Non-Null Count  Dtype  \n",
      "---  ------  --------------  -----  \n",
      " 0   0       23680 non-null  float64\n",
      " 1   1       23680 non-null  float64\n",
      " 2   2       23680 non-null  float64\n",
      " 3   3       23680 non-null  float64\n",
      " 4   4       23680 non-null  float64\n",
      " 5   5       23680 non-null  float64\n",
      " 6   6       23680 non-null  float64\n",
      " 7   7       23680 non-null  float64\n",
      " 8   8       23680 non-null  float64\n",
      " 9   9       23680 non-null  float64\n",
      " 10  10      23680 non-null  float64\n",
      " 11  11      23680 non-null  float64\n",
      " 12  12      23680 non-null  float64\n",
      " 13  13      23680 non-null  float64\n",
      "dtypes: float64(14)\n",
      "memory usage: 2.5 MB\n"
     ]
    }
   ],
   "source": [
    "X_df.info() #info"
   ]
  },
  {
   "cell_type": "code",
   "execution_count": null,
   "metadata": {},
   "outputs": [],
   "source": [
    "X_train, X_test, y_train, y_test = train_test_split(\n",
    "    X_df, y, test_size=0.2, random_state=42\n",
    ")\n",
    "\n",
    "model = RandomForestClassifier(random_state=42)\n",
    "model.fit(X_train, y_train)"
   ]
  },
  {
   "cell_type": "code",
   "execution_count": 66,
   "metadata": {},
   "outputs": [],
   "source": [
    "# 4. Evaluate model\n",
    "y_pred = model.predict(X_test)\n",
    "accuracy = accuracy_score(y_test, y_pred)"
   ]
  },
  {
   "cell_type": "code",
   "execution_count": null,
   "metadata": {},
   "outputs": [],
   "source": [
    "# 5. Set MLflow tracking URI (local or remote server)\n",
    "mlflow.set_tracking_uri(\"http://localhost:5000\")\n",
    "# Ganti sesuai setup MLflow Anda\n",
    "\n",
    "# 6. Log model and metrics to MLflow\n",
    "with mlflow.start_run():\n",
    "    mlflow.log_param(\"model_type\", \"RandomForestClassifier\")\n",
    "    mlflow.log_metric(\"accuracy\", accuracy)\n",
    "    \n",
    "    # Log model and register to Model Registry\n",
    "    mlflow.sklearn.log_model(\n",
    "        sk_model=model, \n",
    "        artifact_path=\"wesad_model\", \n",
    "        registered_model_name=\"Deployment_Model\"  # Nama model yang terdaftar\n",
    "    )\n",
    "\n",
    "    print(f\"Model logged with accuracy: {accuracy}\")\n",
    "\n",
    "# 7. Print success message\n",
    "print(\"Model successfully saved to MLflow and registered in the Model Registry!\")"
   ]
  }
 ],
 "metadata": {
  "kernelspec": {
   "display_name": "base",
   "language": "python",
   "name": "python3"
  },
  "language_info": {
   "codemirror_mode": {
    "name": "ipython",
    "version": 3
   },
   "file_extension": ".py",
   "mimetype": "text/x-python",
   "name": "python",
   "nbconvert_exporter": "python",
   "pygments_lexer": "ipython3",
   "version": "3.11.9"
  }
 },
 "nbformat": 4,
 "nbformat_minor": 2
}
